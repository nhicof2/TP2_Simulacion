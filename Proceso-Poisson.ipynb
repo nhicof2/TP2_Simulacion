{
 "cells": [
  {
   "cell_type": "code",
   "execution_count": 58,
   "metadata": {},
   "outputs": [],
   "source": [
    "import numpy as np\n",
    "import matplotlib.pyplot as plt\n",
    "import seaborn as sns\n",
    "import scipy as sc\n",
    "from collections import deque\n",
    "plt.rcParams[\"figure.figsize\"] = (10,10)"
   ]
  },
  {
   "cell_type": "markdown",
   "metadata": {},
   "source": [
    "### Una entidad financiera está analizando cambiar uno de sus cajeros automáticos por uno con la funcionalidad de reciclador de billetes (si un cliente realiza un depósito de efectivo, ese efectivo estará disponible para que lo pueda retirar otro cliente).\n",
    "### El cajero automático actual, que se quiere reemplazar, es de tipo estándar. No recicla los billetes, sino que posee dos compartimentos, uno con dinero para entregar y otro donde guarda el dinero que se deposita.\n",
    "### Esto presenta los siguientes problemas:\n",
    "###  -  Si no tiene más efectivo para entregar en el compartimento de retiro de dinero, no entrega efectivo aunque tenga en el compartimento de depósitos.\n",
    "###  -  Si el compartimento que recibe los depósitos se completa, no puede recibir más.\n",
    "### La entidad conoce que con el cajero actual el 20% de los clientes se retiraba sin poder extraer dinero, y sólo acepta cambiarlo si este porcentaje disminuye.\n",
    "### Por simplicidad suponer que el cajero sólo expende billetes de 100 (pesos), tiene una capacidad máxima de 2000 billetes, y comienza el día con su carga completa.\n",
    "### Si un cliente quiere extraer dinero y el cajero no cuenta con la suma suficiente, se va del mismo sin retirar nada. Algo similar ocurre cuando un cliente desea depositar efectivo y la capacidad máxima de billetes en el cajero fue alcanzada, retirándose sin poder depositar.\n",
    "### En el relevamiento que realizó la entidad diferenció a sus clientes en dos grupos:\n",
    "###  -  Grupo 1: Sólo retiran efectivo, y corresponden al 75% de los clientes que arriban. El tiempo que utilizan el cajero se puede modelar con una distribución exponencial de media 90 segundos. Cada cliente de este grupo, extrae una cantidad de billetes que sigue una distribución uniforme [3,50].\n",
    "###  -  Grupo 2: Sólo realizan depósitos, son el 25% de los clientes totales. Utilizando el cajero un tiempo que siguen una distribución exponencial de media 5 minutos. Cada cliente de este grupo, deposita una cantidad de billetes que se puede modelar utilizando una distribución uniforme [10,110].\n",
    "### Para determinar la frecuencia de arribos de clientes se han registrado 1000 tiempos entre arribos de los mismos.\n",
    "### El área a cargo de modelar el problema, realizó dos propuestas para modelar este tiempo.\n",
    "###  -  Utilizar una distribución de probabilidades Exponencial con media 𝜇 = 180 seg\n",
    "###  -  Utilizar una distribución de probabilidades Exponencial con tasa 𝜆 = 1/240\n",
    "### Se pide:\n",
    "### a. Proponer un método para determinar la función de probabilidades a utilizar para modelar el tiempo entre arribos de clientes, y aplicarlo a los datos brindados en el archivo auxiliar al enunciado para determinar cuál de las distribuciones es más adecuada (utilizar nivel de significación = 1%).\n",
    "### b. Utilizando (Python sin Simpy, Matlab u Octave) simular 1000 días completos de 24 hrs.\n",
    "### c. Para un día en particular graficar la cantidad de billetes en el cajero luego de cada transacción.\n",
    "### d. Calcular el tiempo medio que los clientes demoraron en el sistema (espera + utilización del cajero)\n",
    "### e. ¿Recomienda a la entidad que implemente el cambio de cajero?\n"
   ]
  },
  {
   "cell_type": "markdown",
   "metadata": {},
   "source": [
    "## ============================"
   ]
  },
  {
   "cell_type": "markdown",
   "metadata": {},
   "source": [
    "## Solucion Propuesta:\n",
    "### a. Para saber que modelo de los 2 dados es mas representativo de los datos que se tienen, dado que el tiempo es algo continuo podría ser optimo realizar un test de Kolmogorov Smirnov y ver cual de las dos distribuciones da un estadistico mas bajo."
   ]
  },
  {
   "cell_type": "code",
   "execution_count": 3,
   "metadata": {},
   "outputs": [],
   "source": [
    "tiempos = []\n",
    "a='a'\n",
    "datos = open(\"datosTP2EJ1.txt\",\"r\")\n",
    "while (a != ''):\n",
    "    a = datos.readline()\n",
    "    if (a!= ''):\n",
    "        tiempos.append(a)\n",
    "datos.close()"
   ]
  },
  {
   "cell_type": "code",
   "execution_count": 4,
   "metadata": {},
   "outputs": [],
   "source": [
    "for i in range(len(tiempos)):\n",
    "    tiempos[i] = tiempos[i].replace(' \\n','')\n",
    "    tiempos[i] = float(tiempos[i])\n",
    "tiempos = sorted(tiempos)"
   ]
  },
  {
   "cell_type": "code",
   "execution_count": 5,
   "metadata": {},
   "outputs": [
    {
     "data": {
      "text/plain": [
       "0.024730781065291363"
      ]
     },
     "execution_count": 5,
     "metadata": {},
     "output_type": "execute_result"
    }
   ],
   "source": [
    "max_dif = 0\n",
    "aux = 0\n",
    "for i in range(len(tiempos)):\n",
    "    aux = abs( ((i+1)/len(tiempos)) - (sc.stats.expon.cdf(tiempos[i], scale = 180)) )\n",
    "    if ( aux > max_dif):\n",
    "        max_dif = aux\n",
    "max_dif"
   ]
  },
  {
   "cell_type": "code",
   "execution_count": 6,
   "metadata": {},
   "outputs": [
    {
     "data": {
      "text/plain": [
       "KstestResult(statistic=0.024730781065291363, pvalue=0.5735940033913054)"
      ]
     },
     "execution_count": 6,
     "metadata": {},
     "output_type": "execute_result"
    }
   ],
   "source": [
    "sc.stats.kstest(tiempos,'expon',args=(0, 180)) # Parametros de la expon: loc (desplazamiento) y scale = 1/𝜆 "
   ]
  },
  {
   "cell_type": "code",
   "execution_count": 7,
   "metadata": {},
   "outputs": [
    {
     "data": {
      "text/plain": [
       "0.1157527363264863"
      ]
     },
     "execution_count": 7,
     "metadata": {},
     "output_type": "execute_result"
    }
   ],
   "source": [
    "max_dif = 0\n",
    "aux = 0\n",
    "for i in range(len(tiempos)):\n",
    "    aux = abs( ((i+1)/len(tiempos)) - (sc.stats.expon.cdf(tiempos[i], scale = 240)) )\n",
    "    if ( aux > max_dif):\n",
    "        max_dif = aux\n",
    "max_dif"
   ]
  },
  {
   "cell_type": "code",
   "execution_count": 8,
   "metadata": {},
   "outputs": [
    {
     "data": {
      "text/plain": [
       "KstestResult(statistic=0.1157527363264863, pvalue=3.9547796943643075e-12)"
      ]
     },
     "execution_count": 8,
     "metadata": {},
     "output_type": "execute_result"
    }
   ],
   "source": [
    "sc.stats.kstest(tiempos,'expon',args=(0, 240)) # Parametros de la expon: loc (desplazamiento) y scale = 1/𝜆 "
   ]
  },
  {
   "cell_type": "markdown",
   "metadata": {},
   "source": [
    "## El estadistico es menor usando como media de la exponencial 1/𝜆 = 240 segundos, por lo tanto es la distribucion que vamos a usar."
   ]
  },
  {
   "cell_type": "markdown",
   "metadata": {},
   "source": [
    "## ==========================================="
   ]
  },
  {
   "cell_type": "markdown",
   "metadata": {},
   "source": [
    "### b. Para realizar la simulacion de 1000 dias completos vamos a definir primero la simulacion de un dia cualquiera y luego por independencia entre dias vamos a simularlo 1000 veces. Hipotesis: Los cajeros se rellenan a las 00hs."
   ]
  },
  {
   "cell_type": "code",
   "execution_count": 49,
   "metadata": {},
   "outputs": [],
   "source": [
    "class Cajero(object):\n",
    "    #Atributos\n",
    "    billetes_extrac = 2000\n",
    "    billetes_depos = 0\n",
    "    capacidad = 2000\n",
    "    billetes_luego_de_transacciones = []\n",
    "    cola = deque([])\n",
    "    \n",
    "    #Recibe la cantidad de billetes que puede almacenar para extraer/depositar\n",
    "    def __init__(self, capacidad):\n",
    "        self.capacidad = capacidad\n",
    "    \n",
    "    #Devuelve la cantidad de billetes extraidos o -1 si no se pudo realizar la extraccion\n",
    "    def extraer(self, n_billetes):\n",
    "        billetes_extraidos = 0\n",
    "        if (self.billetes_extrac - n_billetes < 0):\n",
    "            if ((self.billetes_extrac + self.billetes_depos) - n_billetes < 0):\n",
    "                return -1\n",
    "            billetes_extraidos = self.billetes_extrac\n",
    "            n_billetes -= billetes_extraidos\n",
    "            billetes_extraidos += n_billetes\n",
    "            self.billetes_extrac = 0\n",
    "            self.billetes_depos -= n_billetes\n",
    "        else:\n",
    "            billetes_extraidos = n_billetes\n",
    "            self.billetes_extrac -= n_billetes\n",
    "        self.agregar_transaccion()\n",
    "        return billetes_extraidos\n",
    "    \n",
    "    #Devuelve la cantidad de billetes depositados o -1 si no se pudo realizar el deposito\n",
    "    def depositar(self, n_billetes):\n",
    "        if (self.billetes_depos + n_billetes > self.capacidad):\n",
    "            return -1\n",
    "        else:\n",
    "            self.billetes_depos += n_billetes\n",
    "        self.agregar_transaccion()\n",
    "        return n_billetes\n",
    "    \n",
    "    #Se rellenan los billetes para extracciones hasta la maxima capacidad y se vacian los billetes para deposito\n",
    "    def reiniciar_capacidad(self):\n",
    "        self.billetes_extrac = self.capacidad\n",
    "        self.billetes_depos = 0\n",
    "        self.billetes_luego_de_transacciones = []\n",
    "    \n",
    "    #Agrega la cantidad de billetes actuales en el cajero a la lista de billetes en el cajero luego de una transaccion\n",
    "    def agregar_transaccion(self):\n",
    "        self.billetes_luego_de_transacciones.append(self.billetes_extrac + self.billetes_depos)\n",
    "        \n",
    "    def obtener_transacciones(self):\n",
    "        return self.billetes_luego_de_transacciones\n",
    "    \n",
    "    #Se agrega el tiempo que estara una persona usando el cajero\n",
    "    def acolar(self, tiempo):\n",
    "        self.cola.append(tiempo)\n",
    "        \n",
    "    #Devuelve el tiempo de la primer persona que ingreso a la cola y se lo remueve\n",
    "    def desacolar(self):\n",
    "        return self.cola.popleft()\n",
    "    \n",
    "    #Devuelve True si hay gente esperando para usar el cajero\n",
    "    def tiene_cola(self):\n",
    "        return (len(self.cola) > 0)\n",
    "    \n",
    "    #Devuelve el tiempo total sumado de la cola\n",
    "    def obtener_tiempo_cola(self):\n",
    "        tiempo = 0\n",
    "        if (self.tiene_cola()):\n",
    "            for i in self.cola:\n",
    "                tiempo += i\n",
    "        \n",
    "        return tiempo\n",
    "    \n",
    "    #Hace que se reste el tiempo recibido a cada tiempo de las personas acoladas\n",
    "    def transcurrir_tiempo(self, tiempo):\n",
    "        if (self.tiene_cola()):\n",
    "            temp = self.cola[0]\n",
    "            while (self.tiene_cola() and tiempo > 0):\n",
    "                self.cola[0] -= tiempo\n",
    "                tiempo -= temp\n",
    "                if (self.cola[0] <= 0):\n",
    "                    self.desacolar()\n",
    "                if (self.tiene_cola()):\n",
    "                    temp = self.cola[0]\n",
    "        "
   ]
  },
  {
   "cell_type": "code",
   "execution_count": 81,
   "metadata": {},
   "outputs": [],
   "source": [
    "class Dia(object):\n",
    "    #Atributos\n",
    "    cajero = Cajero(1)\n",
    "    arribos = deque([])\n",
    "    tiempo_promedio_espera = 0\n",
    "    clientes_insatisfechos = 0\n",
    "    \n",
    "    #Simula 24*60*60 segundos y asigna en los atributos los \n",
    "    def simular_dia(self, cajero, media_arribos, fraccion_extrac, media_extrac, media_depos):\n",
    "        cajero.reiniciar_capacidad()\n",
    "        self.arribos = deque([])\n",
    "        tiempo_ultimo_arribo = 0\n",
    "        self.clientes_insatisfechos = 0\n",
    "        while (tiempo_ultimo_arribo < 24*60*60):\n",
    "            tiempo_ultimo_arribo += sc.stats.expon.rvs(loc=0,scale=media_arribos)\n",
    "            if (tiempo_ultimo_arribo < 24*60*60):\n",
    "                self.arribos.append(tiempo_ultimo_arribo)\n",
    "          \n",
    "        tiempo_arribo_anterior = 0\n",
    "        for t_arribo_actual in self.arribos:\n",
    "            u = np.random.rand()\n",
    "            if (u < fraccion_extrac):\n",
    "                cajero.transcurrir_tiempo(t_arribo_actual - tiempo_arribo_anterior)\n",
    "                cajero.acolar(sc.stats.expon.rvs(loc=0, scale=media_extrac))\n",
    "                self.clientes_insatisfechos += (cajero.extraer(sc.stats.randint.rvs(low=3, high=50)) < 0)\n",
    "            else:\n",
    "                cajero.transcurrir_tiempo(t_arribo_actual - tiempo_arribo_anterior)\n",
    "                cajero.acolar(sc.stats.expon.rvs(loc=0, scale=media_depos))\n",
    "                self.clientes_insatisfechos += (cajero.depositar(sc.stats.randint.rvs(low=10, high=110)) < 0)\n",
    "            tiempo_arribo_anterior = t_arribo_actual\n",
    "            self.tiempo_promedio_espera += cajero.obtener_tiempo_cola()\n",
    "    \n",
    "        self.tiempo_promedio_espera /= len(self.arribos)\n",
    "        cajero.transcurrir_tiempo(24*60*60 - tiempo_ultimo_arribo)\n",
    "        self.cajero = cajero\n",
    "        \n",
    "    #Devuelve una lista con el tiempo de cada arribo de las personas durante un dia simulado\n",
    "    def obtener_arribos(self):\n",
    "        return self.arribos\n",
    "    \n",
    "    #Devuelve el tiempo promedio de espera para completar la operacion (incluyendo la cola) de las personas\n",
    "    def obtener_tiempo_promedio_espera(self):\n",
    "        return self.tiempo_promedio_espera\n",
    "    \n",
    "    #Devuelve la cantidad de clientes que vinieron durante un dia simulado y no pudieron realizar la operacion\n",
    "    def obtener_clientes_insatisfechos(self):\n",
    "        return self.clientes_insatisfechos\n",
    "    \n",
    "    #Devuelve la cantidad de clientes que vinieron durante el lapso de un dia simulado\n",
    "    def obtener_cantidad_clientes(self):\n",
    "        return len(self.arribos)\n",
    "    \n",
    "    "
   ]
  },
  {
   "cell_type": "code",
   "execution_count": 88,
   "metadata": {},
   "outputs": [],
   "source": [
    "#Simulacion de 1000 dias:\n",
    "clientes_totales = 0\n",
    "clientes_insatisfechos_totales = 0\n",
    "\n",
    "#Inicializo un cajero con capacidad de 2000 billetes\n",
    "cajero = Cajero(2000)\n",
    "\n",
    "#Inicializo un objeto dia\n",
    "dia = Dia()\n",
    "\n",
    "#Simulo 1000 dias (Consideracion: El cajero conserva la cola del dia anterior)\n",
    "for i in range(1000):\n",
    "    dia.simular_dia(cajero, media_arribos = 240, fraccion_extrac = 0.75, media_extrac = 90, media_depos = 5*60)\n",
    "    clientes_totales += dia.obtener_cantidad_clientes()\n",
    "    clientes_insatisfechos_totales += dia.obtener_clientes_insatisfechos()\n",
    "    \n",
    "#Si quedo gente esperando en el cajero luego de los 1000 dias los marco como insatisfechos\n",
    "while(cajero.tiene_cola()):\n",
    "    clientes_totales += 1\n",
    "    cajero.desacolar()"
   ]
  },
  {
   "cell_type": "code",
   "execution_count": 89,
   "metadata": {},
   "outputs": [
    {
     "name": "stdout",
     "output_type": "stream",
     "text": [
      "Clientes totales: 359367\n",
      "Clientes insatisfechos totales: 8442\n"
     ]
    }
   ],
   "source": [
    "print(\"Clientes totales: \" + str(clientes_totales))\n",
    "print(\"Clientes insatisfechos totales: \" + str(clientes_insatisfechos_totales))"
   ]
  },
  {
   "cell_type": "markdown",
   "metadata": {},
   "source": [
    "## Punto e: Obtengo la cantidad de clientes que no pudieron realizar la transaccion y la divido por la cantidad de clientes en total que vinieron al cajero, si la cantidad es inferior a 0.2 entonces conviene cambiar el cajero anterior por este nuevo"
   ]
  },
  {
   "cell_type": "code",
   "execution_count": 90,
   "metadata": {},
   "outputs": [
    {
     "data": {
      "text/plain": [
       "0.023491305545584318"
      ]
     },
     "execution_count": 90,
     "metadata": {},
     "output_type": "execute_result"
    }
   ],
   "source": [
    "clientes_insatisfechos_totales/clientes_totales"
   ]
  },
  {
   "cell_type": "markdown",
   "metadata": {},
   "source": [
    "## Punto c: Grafica de billetes en el cajero luego de transacciones en un dia"
   ]
  },
  {
   "cell_type": "code",
   "execution_count": 82,
   "metadata": {},
   "outputs": [],
   "source": [
    "otro_cajero = Cajero(2000)\n",
    "otro_dia = Dia()\n",
    "otro_dia.simular_dia(otro_cajero, media_arribos = 240, fraccion_extrac = 0.75, media_extrac = 90, media_depos = 5*60)\n",
    "transacciones = []\n",
    "transacciones = otro_cajero.obtener_transacciones()\n",
    "\n",
    "while(len(otro_dia.obtener_arribos()) != len(transacciones)):\n",
    "    otro_dia.obtener_arribos().pop()\n",
    "\n",
    "arribos_h = otro_dia.obtener_arribos()\n",
    "for i in range(len(arribos_h)):\n",
    "    arribos_h[i] = arribos_h[i] / (60*60)"
   ]
  },
  {
   "cell_type": "code",
   "execution_count": 83,
   "metadata": {},
   "outputs": [
    {
     "data": {
      "image/png": "[encoded data removed]",
      "text/plain": [
       "<Figure size 720x720 with 1 Axes>"
      ]
     },
     "metadata": {
      "needs_background": "light"
     },
     "output_type": "display_data"
    }
   ],
   "source": [
    "sns.lineplot(arribos_h, transacciones)\n",
    "plt.grid()\n",
    "plt.title('Cantidad de billetes luego de cada transaccion\\n', fontsize=18)\n",
    "plt.xlim(left=0,right=24)\n",
    "plt.ylim(bottom=0)\n",
    "plt.xticks(range(0,25,4))\n",
    "plt.xlabel('Hora del dia', fontsize=13)\n",
    "plt.ylabel('Cantidad de billetes en el cajero', fontsize=13);"
   ]
  },
  {
   "cell_type": "markdown",
   "metadata": {},
   "source": [
    "## Punto d: Tiempo medio de espera de los clientes en un dia particular"
   ]
  },
  {
   "cell_type": "code",
   "execution_count": 85,
   "metadata": {},
   "outputs": [
    {
     "name": "stdout",
     "output_type": "stream",
     "text": [
      "En promedio los clientes esperan: 6.782212767680176 minutos\n"
     ]
    }
   ],
   "source": [
    "print(\"En promedio los clientes esperan: \" + str(otro_dia.obtener_tiempo_promedio_espera() / 60) + \" minutos\")"
   ]
  },
  {
   "cell_type": "code",
   "execution_count": null,
   "metadata": {},
   "outputs": [],
   "source": []
  }
 ],
 "metadata": {
  "kernelspec": {
   "display_name": "Python 3",
   "language": "python",
   "name": "python3"
  },
  "language_info": {
   "codemirror_mode": {
    "name": "ipython",
    "version": 3
   },
   "file_extension": ".py",
   "mimetype": "text/x-python",
   "name": "python",
   "nbconvert_exporter": "python",
   "pygments_lexer": "ipython3",
   "version": "3.6.8"
  }
 },
 "nbformat": 4,
 "nbformat_minor": 4
}
