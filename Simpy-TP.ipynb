{
 "cells": [
  {
   "cell_type": "code",
   "execution_count": 1,
   "metadata": {},
   "outputs": [],
   "source": [
    "import simpy\n",
    "import numpy as np\n",
    "import seaborn as sns\n",
    "import scipy as sc"
   ]
  },
  {
   "cell_type": "markdown",
   "metadata": {},
   "source": [
    "### Se está diseñando un web service, el cual cada vez que es invocado consulta a una base de datos.\n",
    "### Se estima que el tiempo que transcurre entre cada llamada al servicio se puede modelar según una distribución exponencial con media 𝜇 = 4 𝑠𝑒𝑔𝑢𝑛𝑑𝑜𝑠\n",
    "### Se debe decidir la arquitectura de base de datos a utilizar entre las dos siguientes:\n",
    "### 1) Utilizar 2 bases de datos distribuidas. Con probabilidad 𝑝 = 0.6 las solicitudes son atendidas por la base 1 y con probabilidad 𝑞 = 1 − 𝑝 son atendidos por la base de datos 2. El tiempo que demora cada base de datos en atender una solicitud sigue una distribución exponencial con medias, 𝜇1 = 0,7 𝑠𝑒𝑔 y 𝜇2 = 1 𝑠𝑒𝑔 respectivamente.\n",
    "### 2) Utilizar 1 base de datos central. En este caso la demora en resolver una solicitud sigue una distribución exponencial con 𝜇 = 0,8 𝑠𝑒𝑔𝑢𝑛𝑑𝑜𝑠 \n",
    "### Simular para cada opción 100000 solicitudes procesadas, determinando:\n",
    "####  - El tiempo medio de espera entre que la solicitud llega y puede ser procesada (suponer que ninguna conexión cae por timeout).\n",
    "####  - La fracción de las solicitudes que no esperaron para ser procesadas.\n",
    "####  - La opción 1 es más costosa que la segunda opción y la empresa sólo acepta realizar la inversión si el tiempo medio que demora en resolver cada solicitud (tiempo en fila + tiempo de procesamiento) es como mínimo 50% menor que la opción 2. ¿Qué solución le recomienda?"
   ]
  },
  {
   "cell_type": "code",
   "execution_count": 36,
   "metadata": {},
   "outputs": [
    {
     "name": "stdout",
     "output_type": "stream",
     "text": [
      "Transcurrieron 399754.0866933777 segundos en 100000 iteraciones\n",
      "Se uso 59983 veces la bdd1 y 40017 veces la bdd2\n",
      "Hubo 89710 llamadas sin espera, es decir 0.8971 del total\n",
      "El tiempo medio de espera fue: 0.9115069553857076 seg\n",
      "El tiempo medio de cola (sin procesamiento de llamada) fue: 0.09262824954041236 seg\n"
     ]
    }
   ],
   "source": [
    "class web_service_1:\n",
    "    def __init__(self, env, media_call, bdd_1, bdd_2, proba_b1, media_1, media_2, sol_max):\n",
    "        self.env = env\n",
    "        self.media_call = media_call\n",
    "        self.bdd_1 = bdd_1\n",
    "        self.bdd_2 = bdd_2\n",
    "        self.proba_b1 = proba_b1\n",
    "        self.media_1 = media_1\n",
    "        self.media_2 = media_2\n",
    "        self.sol_max = sol_max\n",
    "        self.action = env.process(self.run(env))\n",
    "        self.usos_bdd = [0,0]\n",
    "        self.cant_sol = 0\n",
    "        self.cant_sol_sin_espera = 0\n",
    "        self.tiempo_cola = 0\n",
    "        self.tiempo_espera_tot = 0 #Sumatoria Tiempo_proc_i - Tiempo_llamada_i =\n",
    "                                   # (Sumatoria Tiempo_proc_i) - (Sumatoria Tiempo_llamada_k)\n",
    "    \n",
    "    def run(self, env):\n",
    "        while(self.cant_sol < self.sol_max):\n",
    "            t_call = sc.stats.expon.rvs(loc=0,scale=self.media_call)\n",
    "            yield self.env.timeout(t_call)\n",
    "            self.cant_sol += 1\n",
    "            self.tiempo_espera_tot -= self.env.now\n",
    "            u = np.random.rand()\n",
    "            if (u < self.proba_b1 and (self.cant_sol < self.sol_max)):\n",
    "                self.env.process(self.usar_bdd(1))\n",
    "            elif (u < self.proba_b1 and (self.cant_sol == self.sol_max)):\n",
    "                yield self.env.process(self.usar_bdd(1))\n",
    "            elif (u >= self.proba_b1 and (self.cant_sol < self.sol_max)):\n",
    "                self.env.process(self.usar_bdd(2))\n",
    "            else:\n",
    "                yield self.env.process(self.usar_bdd(2))\n",
    "                    \n",
    "        self.tiempo_cola += self.tiempo_espera_tot\n",
    "        print(\"Transcurrieron\", self.env.now, \"segundos en\", self.sol_max, \"iteraciones\")         \n",
    "        print(\"Se uso\", self.usos_bdd[0], \"veces la bdd1 y\",  self.usos_bdd[1], \"veces la bdd2\")\n",
    "        print(\"Hubo\", self.cant_sol_sin_espera, \"llamadas sin espera, es decir\", self.cant_sol_sin_espera/self.sol_max, \"del total\")\n",
    "        print(\"El tiempo medio de espera fue:\", self.tiempo_espera_tot/self.sol_max, \"seg\")\n",
    "        print(\"El tiempo medio de cola (sin procesamiento de llamada) fue:\", self.tiempo_cola/self.sol_max, \"seg\")\n",
    "        \n",
    "    def usar_bdd(self, n_bdd):\n",
    "        if (n_bdd == 1):\n",
    "            self.usos_bdd[0] += 1\n",
    "            if (self.bdd_1.count == 0):\n",
    "                self.cant_sol_sin_espera += 1\n",
    "            with self.bdd_1.request() as bdd1:\n",
    "                yield bdd1\n",
    "                t_uso = sc.stats.expon.rvs(loc=0, scale=self.media_1)\n",
    "                yield self.env.timeout(t_uso)\n",
    "        else:\n",
    "            self.usos_bdd[1] += 1\n",
    "            if (self.bdd_2.count == 0):\n",
    "                self.cant_sol_sin_espera += 1\n",
    "            with self.bdd_2.request() as bdd2:\n",
    "                yield bdd2\n",
    "                t_uso = sc.stats.expon.rvs(loc=0, scale=self.media_2)\n",
    "                yield self.env.timeout(t_uso)\n",
    "        self.tiempo_espera_tot += self.env.now\n",
    "        self.tiempo_cola -= t_uso\n",
    "                \n",
    "\n",
    "env = simpy.Environment()\n",
    "base1 = simpy.Resource(env, capacity=1)\n",
    "base2 = simpy.Resource(env, capacity=1)\n",
    "ws1 = web_service_1(env, 4, base1, base2, 0.6, 0.7, 1, 100000)\n",
    "env.run()"
   ]
  },
  {
   "cell_type": "code",
   "execution_count": 37,
   "metadata": {},
   "outputs": [
    {
     "name": "stdout",
     "output_type": "stream",
     "text": [
      "Transcurrieron 400075.0848755968 segundos en 100000 iteraciones\n",
      "Hubo 80140 llamadas sin espera, es decir 0.8014 del total\n",
      "El tiempo medio de espera fue: 0.9984850016983448 seg\n",
      "El tiempo medio de cola (sin procesamiento de llamada) fue: 0.19990797502652494 seg\n"
     ]
    }
   ],
   "source": [
    "class web_service_2:\n",
    "    def __init__(self, env, media_call, bdd, media_bdd, sol_max):\n",
    "        self.env = env\n",
    "        self.media_call = media_call\n",
    "        self.bdd = bdd\n",
    "        self.media_bdd = media_bdd\n",
    "        self.sol_max = sol_max\n",
    "        self.action = env.process(self.run(env))\n",
    "        self.cant_sol = 0\n",
    "        self.cant_sol_sin_espera = 0\n",
    "        self.tiempo_cola = 0\n",
    "        self.tiempo_espera_tot = 0 #Sumatoria Tiempo_proc_i - Tiempo_llamada_i =\n",
    "                                   # (Sumatoria Tiempo_proc_i) - (Sumatoria Tiempo_llamada_k)\n",
    "    \n",
    "    \n",
    "    def run(self, env):\n",
    "        while(self.cant_sol < self.sol_max):\n",
    "            yield self.env.timeout(sc.stats.expon.rvs(loc=0,scale=self.media_call))\n",
    "            self.tiempo_espera_tot -= self.env.now\n",
    "            self.cant_sol += 1\n",
    "            if (self.cant_sol < self.sol_max):\n",
    "                self.env.process(self.usar_bdd())\n",
    "            else:\n",
    "                yield self.env.process(self.usar_bdd())\n",
    "                    \n",
    "        self.tiempo_cola += self.tiempo_espera_tot\n",
    "        print(\"Transcurrieron\", self.env.now, \"segundos en\", self.sol_max, \"iteraciones\")\n",
    "        print(\"Hubo\", self.cant_sol_sin_espera, \"llamadas sin espera, es decir\", self.cant_sol_sin_espera/self.sol_max, \"del total\")\n",
    "        print(\"El tiempo medio de espera fue:\", self.tiempo_espera_tot/self.sol_max, \"seg\")\n",
    "        print(\"El tiempo medio de cola (sin procesamiento de llamada) fue:\", self.tiempo_cola/self.sol_max, \"seg\")\n",
    "    \n",
    "    def usar_bdd(self):\n",
    "        if (self.bdd.count == 0):\n",
    "            self.cant_sol_sin_espera += 1\n",
    "        with self.bdd.request() as bdd:\n",
    "            yield bdd\n",
    "            t_uso = sc.stats.expon.rvs(loc=0, scale=self.media_bdd)\n",
    "            yield self.env.timeout(t_uso)\n",
    "        self.tiempo_espera_tot += self.env.now\n",
    "        self.tiempo_cola -= t_uso\n",
    "\n",
    "env = simpy.Environment()\n",
    "base = simpy.Resource(env, capacity=1)\n",
    "ws2 = web_service_2(env, 4, base, 0.8, 100000)\n",
    "env.run()"
   ]
  },
  {
   "cell_type": "markdown",
   "metadata": {},
   "source": [
    "## Debido a que el tiempo medio de espera solo 8% mas rápido en la opcion 1 (0.91 segundos contra los 0.99 de la opcion 2), entonces dado que la opcion 2 es mas económica recomendamos elegir esa."
   ]
  },
  {
   "cell_type": "code",
   "execution_count": null,
   "metadata": {},
   "outputs": [],
   "source": []
  }
 ],
 "metadata": {
  "kernelspec": {
   "display_name": "Python 3",
   "language": "python",
   "name": "python3"
  },
  "language_info": {
   "codemirror_mode": {
    "name": "ipython",
    "version": 3
   },
   "file_extension": ".py",
   "mimetype": "text/x-python",
   "name": "python",
   "nbconvert_exporter": "python",
   "pygments_lexer": "ipython3",
   "version": "3.6.8"
  }
 },
 "nbformat": 4,
 "nbformat_minor": 4
}
